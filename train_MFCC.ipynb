{
 "cells": [
  {
   "cell_type": "code",
   "outputs": [],
   "source": [
    "import tensorflow as tf\n",
    "import tensorflow_datasets as tfds\n",
    "from tensorflow.keras import layers, models\n",
    "import numpy as np"
   ],
   "metadata": {
    "collapsed": false,
    "ExecuteTime": {
     "end_time": "2024-07-04T14:04:40.234168Z",
     "start_time": "2024-07-04T14:04:37.545733Z"
    }
   },
   "id": "37656c1e3cd7f1b5",
   "execution_count": 1
  },
  {
   "cell_type": "code",
   "outputs": [
    {
     "name": "stderr",
     "output_type": "stream",
     "text": [
      "2024-07-04 17:04:40.243014: I metal_plugin/src/device/metal_device.cc:1154] Metal device set to: Apple M3 Pro\n",
      "2024-07-04 17:04:40.243037: I metal_plugin/src/device/metal_device.cc:296] systemMemory: 18.00 GB\n",
      "2024-07-04 17:04:40.243041: I metal_plugin/src/device/metal_device.cc:313] maxCacheSize: 6.00 GB\n",
      "2024-07-04 17:04:40.243054: I tensorflow/core/common_runtime/pluggable_device/pluggable_device_factory.cc:305] Could not identify NUMA node of platform GPU ID 0, defaulting to 0. Your kernel may not have been built with NUMA support.\n",
      "2024-07-04 17:04:40.243063: I tensorflow/core/common_runtime/pluggable_device/pluggable_device_factory.cc:271] Created TensorFlow device (/job:localhost/replica:0/task:0/device:GPU:0 with 0 MB memory) -> physical PluggableDevice (device: 0, name: METAL, pci bus id: <undefined>)\n"
     ]
    }
   ],
   "source": [
    "# Load data\n",
    "version = 3 # just 3 is available\n",
    "ds = tfds.load(f'speech_commands:0.0.{version}')\n",
    "train = ds['train']\n",
    "val = ds['validation']"
   ],
   "metadata": {
    "collapsed": false,
    "ExecuteTime": {
     "end_time": "2024-07-04T14:04:40.339579Z",
     "start_time": "2024-07-04T14:04:40.235299Z"
    }
   },
   "id": "7f1e05e0c1613d50",
   "execution_count": 2
  },
  {
   "cell_type": "code",
   "outputs": [
    {
     "name": "stdout",
     "output_type": "stream",
     "text": [
      "0: down\n",
      "1: go\n",
      "2: left\n",
      "3: no\n",
      "4: off\n",
      "5: on\n",
      "6: right\n",
      "7: stop\n",
      "8: up\n",
      "9: yes\n",
      "10: _silence_\n",
      "11: _unknown_\n"
     ]
    }
   ],
   "source": [
    "#visual class names\n",
    "info = tfds.builder(f'speech_commands:0.0.{version}').info\n",
    "class_names = info.features['label'].names\n",
    "for i,c in enumerate(class_names):\n",
    "    print(f'{i}: {c}')\n",
    "    "
   ],
   "metadata": {
    "collapsed": false,
    "ExecuteTime": {
     "end_time": "2024-07-04T14:04:40.344679Z",
     "start_time": "2024-07-04T14:04:40.340258Z"
    }
   },
   "id": "ac665411de511a48",
   "execution_count": 3
  },
  {
   "cell_type": "code",
   "outputs": [],
   "source": [
    "# custom MFCC function\n",
    "# An integer representing the sampling rate.\n",
    "sr = 16000\n",
    "# An integer scalar Tensor. The window length in samples.\n",
    "frame_length = int(sr/40) #25 ms\n",
    "# An integer scalar Tensor. The number of samples to step.\n",
    "frame_step = int(sr/100) #10 ms\n",
    "# An integer scalar Tensor. The size of the FFT to apply.\n",
    "fft_length = int(sr/40) #25 ms\n",
    "# An integer representing the num of filterbanks.\n",
    "num_feats = 40\n",
    "\n",
    "def get_mfccs(\n",
    "        audio,\n",
    "        channels= 1,\n",
    "        sample_rate= 16000,\n",
    "        frame_length= 400,\n",
    "        frame_step = 160,\n",
    "        fft_length = 400,\n",
    "        num_feats = 40\n",
    "    ):\n",
    "    audio = tf.cast(audio, tf.float32)\n",
    "    audio = audio[:16000]\n",
    "    zero_padding = tf.zeros([16000] - tf.shape(audio), dtype=tf.float32)\n",
    "    audio = tf.concat([audio, zero_padding], 0)\n",
    "    stfts = tf.signal.stft(audio, frame_length=frame_length, frame_step=frame_step, fft_length=fft_length)\n",
    "\n",
    "    spectrograms = tf.abs(stfts)\n",
    "\n",
    "    # Warp the linear scale spectrograms into the mel-scale.\n",
    "    num_spectrogram_bins = stfts.shape[-1]\n",
    "    lower_edge_hertz, upper_edge_hertz, num_mel_bins = 0 , sample_rate/2, num_feats\n",
    "    linear_to_mel_weight_matrix = tf.signal.linear_to_mel_weight_matrix(\n",
    "      num_mel_bins, num_spectrogram_bins, sample_rate, lower_edge_hertz, upper_edge_hertz)\n",
    "    mel_spectrograms = tf.tensordot(\n",
    "      spectrograms, linear_to_mel_weight_matrix, 1)\n",
    "    mel_spectrograms.set_shape(spectrograms.shape[:-1].concatenate(\n",
    "      linear_to_mel_weight_matrix.shape[-1:]))\n",
    "\n",
    "    # Compute a stabilized log to get log-magnitude mel-scale spectrograms.\n",
    "    log_mel_spectrograms = tf.math.log(mel_spectrograms + 1e-6)\n",
    "\n",
    "    # Compute MFCCs from log_mel_spectrograms\n",
    "    mfccs = tf.signal.mfccs_from_log_mel_spectrograms(\n",
    "      log_mel_spectrograms)\n",
    "    mfccs = mfccs[..., tf.newaxis]\n",
    "\n",
    "    return mfccs\n"
   ],
   "metadata": {
    "collapsed": false,
    "ExecuteTime": {
     "end_time": "2024-07-04T15:28:03.507309Z",
     "start_time": "2024-07-04T15:28:03.499002Z"
    }
   },
   "id": "31fb53a7ea7f840",
   "execution_count": 71
  },
  {
   "cell_type": "code",
   "outputs": [],
   "source": [
    "# Preprocessing function\n",
    "def preprocess_data(example):\n",
    "    audio = example['audio']\n",
    "    label = example['label']\n",
    "    # label = tf.one_hot(label, 12)\n",
    "    mfccs = get_mfccs(audio)\n",
    "    return mfccs, label"
   ],
   "metadata": {
    "collapsed": false,
    "ExecuteTime": {
     "end_time": "2024-07-04T15:50:50.282975Z",
     "start_time": "2024-07-04T15:50:50.278696Z"
    }
   },
   "id": "b37f3162569355ed",
   "execution_count": 107
  },
  {
   "cell_type": "code",
   "outputs": [],
   "source": [
    "# Create dataset\n",
    "train_samples = train\n",
    "train_data = train_samples.map(preprocess_data, num_parallel_calls=tf.data.experimental.AUTOTUNE)"
   ],
   "metadata": {
    "collapsed": false,
    "ExecuteTime": {
     "end_time": "2024-07-04T15:50:51.275562Z",
     "start_time": "2024-07-04T15:50:51.139763Z"
    }
   },
   "id": "eb456c53ac8ea9de",
   "execution_count": 108
  },
  {
   "cell_type": "code",
   "outputs": [],
   "source": [
    "#batch\n",
    "batch_size = 32\n",
    "train_data_batched = train_data.batch(batch_size)"
   ],
   "metadata": {
    "collapsed": false,
    "ExecuteTime": {
     "end_time": "2024-07-04T16:02:33.679269Z",
     "start_time": "2024-07-04T16:02:33.675599Z"
    }
   },
   "id": "443e62d6d536f41a",
   "execution_count": 148
  },
  {
   "cell_type": "code",
   "outputs": [],
   "source": [
    "import tensorflow as tf\n",
    "from tensorflow.keras import layers, models\n",
    "\n",
    "def build_model(num_classes=12):\n",
    "    \"\"\"\n",
    "    Defines a CNN model for audio classification using mel spectrograms.\n",
    "\n",
    "    Args:\n",
    "        num_classes: The number of classes in your classification problem (default is 12).\n",
    "\n",
    "    Returns:\n",
    "        A compiled TensorFlow Keras model.\n",
    "    \"\"\"\n",
    "    inputs = layers.Input(shape=(98,40))\n",
    "\n",
    "    # # Reshape input to 4D tensor\n",
    "    x = layers.Reshape((98,40, 1))(inputs)\n",
    "\n",
    "    # First convolutional block\n",
    "    x = layers.Conv2D(32, (3, 3), activation=\"relu\", padding=\"same\")(x)\n",
    "    x = layers.BatchNormalization()(x)\n",
    "    x = layers.MaxPooling2D((2, 2))(x)\n",
    "\n",
    "    # Second convolutional block\n",
    "    x = layers.Conv2D(64, (3, 3), activation=\"relu\", padding=\"same\")(x)\n",
    "    x = layers.BatchNormalization()(x)\n",
    "    x = layers.MaxPooling2D((2, 2))(x)\n",
    "\n",
    "    # Third convolutional block\n",
    "    x = layers.Conv2D(128, (3, 3), activation=\"relu\", padding=\"same\")(x)\n",
    "    x = layers.BatchNormalization()(x)\n",
    "    x = layers.MaxPooling2D((2, 2))(x)\n",
    "\n",
    "    # Flatten the tensor output from the convolutional blocks\n",
    "    x = layers.Flatten()(x)\n",
    "\n",
    "    # Fully connected layers with dropout\n",
    "    x = layers.Dense(128, activation=\"relu\")(x)\n",
    "    # x = layers.Dropout(0.5)(x)  # Adjust dropout rate as needed\n",
    "\n",
    "    # Output layer\n",
    "    outputs = layers.Dense(num_classes, activation=\"softmax\")(x)\n",
    "\n",
    "    # Define the model\n",
    "    model = tf.keras.Model(inputs=inputs, outputs=outputs)\n",
    "\n",
    "    # Compile the model\n",
    "    model.compile(optimizer=\"adam\",\n",
    "                  loss=\"sparse_categorical_crossentropy\",\n",
    "                  metrics=[\"accuracy\"])\n",
    "    return model\n"
   ],
   "metadata": {
    "collapsed": false,
    "ExecuteTime": {
     "end_time": "2024-07-04T16:04:31.815212Z",
     "start_time": "2024-07-04T16:04:31.806623Z"
    }
   },
   "id": "9db6ffd2e95fba22",
   "execution_count": 161
  },
  {
   "cell_type": "code",
   "outputs": [
    {
     "name": "stdout",
     "output_type": "stream",
     "text": [
      "Features shape: (98, 40, 1)\n"
     ]
    },
    {
     "name": "stderr",
     "output_type": "stream",
     "text": [
      "2024-07-04 19:04:32.400603: W tensorflow/core/framework/local_rendezvous.cc:404] Local rendezvous is aborting with status: OUT_OF_RANGE: End of sequence\n"
     ]
    }
   ],
   "source": [
    "for features, labels in train_data.take(1):\n",
    "    print(\"Features shape:\", features.shape)\n",
    "    input_shape = features.shape\n"
   ],
   "metadata": {
    "collapsed": false,
    "ExecuteTime": {
     "end_time": "2024-07-04T16:04:32.404300Z",
     "start_time": "2024-07-04T16:04:32.201666Z"
    }
   },
   "id": "ad8f23690a800b78",
   "execution_count": 162
  },
  {
   "cell_type": "code",
   "outputs": [],
   "source": [
    "# Build the model\n",
    "model = build_model()\n",
    "# model.summary()"
   ],
   "metadata": {
    "collapsed": false,
    "ExecuteTime": {
     "end_time": "2024-07-04T16:04:32.632171Z",
     "start_time": "2024-07-04T16:04:32.578072Z"
    }
   },
   "id": "2510984750cd79b6",
   "execution_count": 164
  },
  {
   "cell_type": "code",
   "outputs": [],
   "source": [
    "#preprocess validation data\n",
    "val_samples = val.map(preprocess_data, num_parallel_calls=tf.data.experimental.AUTOTUNE)\n",
    "val_samples_batched = val_samples.batch(32)"
   ],
   "metadata": {
    "collapsed": false,
    "ExecuteTime": {
     "end_time": "2024-07-04T16:04:34.342820Z",
     "start_time": "2024-07-04T16:04:34.209057Z"
    }
   },
   "id": "816c4cc833bd602a",
   "execution_count": 165
  },
  {
   "cell_type": "code",
   "outputs": [
    {
     "name": "stdout",
     "output_type": "stream",
     "text": [
      "Epoch 1/10\n",
      "\u001B[1m2673/2673\u001B[0m \u001B[32m━━━━━━━━━━━━━━━━━━━━\u001B[0m\u001B[37m\u001B[0m \u001B[1m73s\u001B[0m 26ms/step - accuracy: 0.6867 - loss: 1.1736 - val_accuracy: 0.8705 - val_loss: 0.4041\n",
      "Epoch 2/10\n",
      "\u001B[1m2673/2673\u001B[0m \u001B[32m━━━━━━━━━━━━━━━━━━━━\u001B[0m\u001B[37m\u001B[0m \u001B[1m67s\u001B[0m 25ms/step - accuracy: 0.8856 - loss: 0.3569 - val_accuracy: 0.8857 - val_loss: 0.3506\n",
      "Epoch 3/10\n",
      "\u001B[1m2673/2673\u001B[0m \u001B[32m━━━━━━━━━━━━━━━━━━━━\u001B[0m\u001B[37m\u001B[0m \u001B[1m67s\u001B[0m 25ms/step - accuracy: 0.9216 - loss: 0.2450 - val_accuracy: 0.8948 - val_loss: 0.3452\n",
      "Epoch 4/10\n",
      "\u001B[1m2673/2673\u001B[0m \u001B[32m━━━━━━━━━━━━━━━━━━━━\u001B[0m\u001B[37m\u001B[0m \u001B[1m66s\u001B[0m 25ms/step - accuracy: 0.9378 - loss: 0.1945 - val_accuracy: 0.9184 - val_loss: 0.2725\n",
      "Epoch 5/10\n",
      "\u001B[1m2673/2673\u001B[0m \u001B[32m━━━━━━━━━━━━━━━━━━━━\u001B[0m\u001B[37m\u001B[0m \u001B[1m66s\u001B[0m 25ms/step - accuracy: 0.9489 - loss: 0.1557 - val_accuracy: 0.9227 - val_loss: 0.2874\n",
      "Epoch 6/10\n",
      "\u001B[1m2673/2673\u001B[0m \u001B[32m━━━━━━━━━━━━━━━━━━━━\u001B[0m\u001B[37m\u001B[0m \u001B[1m66s\u001B[0m 25ms/step - accuracy: 0.9599 - loss: 0.1247 - val_accuracy: 0.9283 - val_loss: 0.2575\n",
      "Epoch 7/10\n",
      "\u001B[1m2673/2673\u001B[0m \u001B[32m━━━━━━━━━━━━━━━━━━━━\u001B[0m\u001B[37m\u001B[0m \u001B[1m65s\u001B[0m 24ms/step - accuracy: 0.9646 - loss: 0.1083 - val_accuracy: 0.9304 - val_loss: 0.2951\n",
      "Epoch 8/10\n",
      "\u001B[1m2673/2673\u001B[0m \u001B[32m━━━━━━━━━━━━━━━━━━━━\u001B[0m\u001B[37m\u001B[0m \u001B[1m65s\u001B[0m 24ms/step - accuracy: 0.9693 - loss: 0.0903 - val_accuracy: 0.9208 - val_loss: 0.3533\n",
      "Epoch 9/10\n",
      "\u001B[1m2673/2673\u001B[0m \u001B[32m━━━━━━━━━━━━━━━━━━━━\u001B[0m\u001B[37m\u001B[0m \u001B[1m65s\u001B[0m 24ms/step - accuracy: 0.9734 - loss: 0.0763 - val_accuracy: 0.9262 - val_loss: 0.3659\n",
      "Epoch 10/10\n",
      "\u001B[1m2673/2673\u001B[0m \u001B[32m━━━━━━━━━━━━━━━━━━━━\u001B[0m\u001B[37m\u001B[0m \u001B[1m66s\u001B[0m 25ms/step - accuracy: 0.9775 - loss: 0.0645 - val_accuracy: 0.9168 - val_loss: 0.4367\n"
     ]
    }
   ],
   "source": [
    "# Train the model\n",
    "history = model.fit(train_data_batched,validation_data= val_samples_batched, epochs=10)  # Adjust epochs as needed"
   ],
   "metadata": {
    "collapsed": false,
    "ExecuteTime": {
     "end_time": "2024-07-04T16:15:42.355766Z",
     "start_time": "2024-07-04T16:04:35.633340Z"
    }
   },
   "id": "224422f47445b217",
   "execution_count": 166
  },
  {
   "cell_type": "code",
   "outputs": [],
   "source": [
    "# Save the model\n",
    "model.save(\"audio_classifier_MFCC.keras\")"
   ],
   "metadata": {
    "collapsed": false,
    "ExecuteTime": {
     "end_time": "2024-07-04T16:16:08.029273Z",
     "start_time": "2024-07-04T16:16:07.949994Z"
    }
   },
   "id": "26b6c40191670106",
   "execution_count": 167
  },
  {
   "cell_type": "code",
   "outputs": [],
   "source": [
    "# Load the model\n",
    "model = tf.keras.models.load_model(\"audio_classifier_MFCC.keras\")"
   ],
   "metadata": {
    "collapsed": false,
    "ExecuteTime": {
     "end_time": "2024-07-04T16:16:08.874395Z",
     "start_time": "2024-07-04T16:16:08.689975Z"
    }
   },
   "id": "d64ede18c191d1ff",
   "execution_count": 168
  },
  {
   "cell_type": "code",
   "outputs": [
    {
     "name": "stdout",
     "output_type": "stream",
     "text": [
      "\u001B[1m153/153\u001B[0m \u001B[32m━━━━━━━━━━━━━━━━━━━━\u001B[0m\u001B[37m\u001B[0m \u001B[1m1s\u001B[0m 9ms/step - accuracy: 0.8536 - loss: 0.8331\n",
      "test_acc: 0.8525562286376953 test_loss 0.8758844137191772\n"
     ]
    }
   ],
   "source": [
    "# Test the model\n",
    "test = ds['test']\n",
    "test_samples = test\n",
    "test_data = test_samples.map(preprocess_data, num_parallel_calls=tf.data.experimental.AUTOTUNE)\n",
    "test_data_batched = test_data.batch(32)\n",
    "test_loss, test_acc = model.evaluate(test_data_batched)\n",
    "print('test_acc:', test_acc, 'test_loss', test_loss)\n"
   ],
   "metadata": {
    "collapsed": false,
    "ExecuteTime": {
     "end_time": "2024-07-04T16:19:30.414604Z",
     "start_time": "2024-07-04T16:19:28.837312Z"
    }
   },
   "id": "85fbfbc7c811b329",
   "execution_count": 171
  },
  {
   "cell_type": "code",
   "outputs": [
    {
     "data": {
      "text/plain": "<Figure size 640x480 with 1 Axes>",
      "image/png": "[encoded data removed]"
     },
     "metadata": {},
     "output_type": "display_data"
    },
    {
     "data": {
      "text/plain": "<Figure size 640x480 with 1 Axes>",
      "image/png": "[encoded data removed]"
     },
     "metadata": {},
     "output_type": "display_data"
    }
   ],
   "source": [
    "import matplotlib.pyplot as plt\n",
    "\n",
    "acc = history.history['accuracy']\n",
    "val_acc = history.history['val_accuracy']\n",
    "loss = history.history['loss']\n",
    "val_loss = history.history['val_loss']\n",
    "\n",
    "epochs = range(len(acc))\n",
    "\n",
    "plt.plot(epochs, acc, 'r', label='Training accuracy')\n",
    "plt.plot(epochs, val_acc, 'b', label='Validation accuracy')\n",
    "plt.title('Training and validation accuracy')\n",
    "plt.legend()\n",
    "plt.show()\n",
    "plt.clf()\n",
    "\n",
    "plt.plot(epochs, loss, 'r', label='Training Loss')\n",
    "plt.plot(epochs, val_loss, 'b', label='Validation Loss')\n",
    "plt.title('Training and validation loss')\n",
    "plt.legend()\n",
    "plt.show()"
   ],
   "metadata": {
    "collapsed": false,
    "ExecuteTime": {
     "end_time": "2024-07-04T16:16:31.454778Z",
     "start_time": "2024-07-04T16:16:31.051541Z"
    }
   },
   "id": "1c8121a9fa8a1873",
   "execution_count": 170
  },
  {
   "cell_type": "code",
   "outputs": [],
   "source": [],
   "metadata": {
    "collapsed": false
   },
   "id": "b703103dafd296c2"
  }
 ],
 "metadata": {
  "kernelspec": {
   "display_name": "Python 3",
   "language": "python",
   "name": "python3"
  },
  "language_info": {
   "codemirror_mode": {
    "name": "ipython",
    "version": 2
   },
   "file_extension": ".py",
   "mimetype": "text/x-python",
   "name": "python",
   "nbconvert_exporter": "python",
   "pygments_lexer": "ipython2",
   "version": "2.7.6"
  }
 },
 "nbformat": 4,
 "nbformat_minor": 5
}
