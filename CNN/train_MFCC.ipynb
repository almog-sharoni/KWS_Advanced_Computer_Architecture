{
 "cells": [
  {
   "cell_type": "code",
   "outputs": [],
   "source": [
    "import tensorflow as tf\n",
    "import tensorflow_datasets as tfds\n",
    "from tensorflow.keras import layers, models\n",
    "import numpy as np"
   ],
   "metadata": {
    "collapsed": false,
    "ExecuteTime": {
     "end_time": "2024-07-04T14:04:40.234168Z",
     "start_time": "2024-07-04T14:04:37.545733Z"
    }
   },
   "id": "37656c1e3cd7f1b5",
   "execution_count": 1
  },
  {
   "cell_type": "code",
   "outputs": [
    {
     "name": "stderr",
     "output_type": "stream",
     "text": [
      "2024-07-04 17:04:40.243014: I metal_plugin/src/device/metal_device.cc:1154] Metal device set to: Apple M3 Pro\n",
      "2024-07-04 17:04:40.243037: I metal_plugin/src/device/metal_device.cc:296] systemMemory: 18.00 GB\n",
      "2024-07-04 17:04:40.243041: I metal_plugin/src/device/metal_device.cc:313] maxCacheSize: 6.00 GB\n",
      "2024-07-04 17:04:40.243054: I tensorflow/core/common_runtime/pluggable_device/pluggable_device_factory.cc:305] Could not identify NUMA node of platform GPU ID 0, defaulting to 0. Your kernel may not have been built with NUMA support.\n",
      "2024-07-04 17:04:40.243063: I tensorflow/core/common_runtime/pluggable_device/pluggable_device_factory.cc:271] Created TensorFlow device (/job:localhost/replica:0/task:0/device:GPU:0 with 0 MB memory) -> physical PluggableDevice (device: 0, name: METAL, pci bus id: <undefined>)\n"
     ]
    }
   ],
   "source": [
    "# Load data\n",
    "version = 3 # just 3 is available\n",
    "ds = tfds.load(f'speech_commands:0.0.{version}')\n",
    "train = ds['train']\n",
    "val = ds['validation']"
   ],
   "metadata": {
    "collapsed": false,
    "ExecuteTime": {
     "end_time": "2024-07-04T14:04:40.339579Z",
     "start_time": "2024-07-04T14:04:40.235299Z"
    }
   },
   "id": "7f1e05e0c1613d50",
   "execution_count": 2
  },
  {
   "cell_type": "code",
   "outputs": [
    {
     "name": "stdout",
     "output_type": "stream",
     "text": [
      "0: down\n",
      "1: go\n",
      "2: left\n",
      "3: no\n",
      "4: off\n",
      "5: on\n",
      "6: right\n",
      "7: stop\n",
      "8: up\n",
      "9: yes\n",
      "10: _silence_\n",
      "11: _unknown_\n"
     ]
    }
   ],
   "source": [
    "#visual class names\n",
    "info = tfds.builder(f'speech_commands:0.0.{version}').info\n",
    "class_names = info.features['label'].names\n",
    "for i,c in enumerate(class_names):\n",
    "    print(f'{i}: {c}')\n",
    "    "
   ],
   "metadata": {
    "collapsed": false,
    "ExecuteTime": {
     "end_time": "2024-07-04T14:04:40.344679Z",
     "start_time": "2024-07-04T14:04:40.340258Z"
    }
   },
   "id": "ac665411de511a48",
   "execution_count": 3
  },
  {
   "cell_type": "code",
   "outputs": [],
   "source": [
    "# custom MFCC function\n",
    "# An integer representing the sampling rate.\n",
    "sr = 16000\n",
    "# An integer scalar Tensor. The window length in samples.\n",
    "frame_length = int(sr/40) #25 ms\n",
    "# An integer scalar Tensor. The number of samples to step.\n",
    "frame_step = int(sr/100) #10 ms\n",
    "# An integer scalar Tensor. The size of the FFT to apply.\n",
    "fft_length = int(sr/40) #25 ms\n",
    "# An integer representing the num of filterbanks.\n",
    "num_feats = 40\n",
    "\n",
    "def get_mfccs(\n",
    "        audio,\n",
    "        channels= 1,\n",
    "        sample_rate= 16000,\n",
    "        frame_length= 400,\n",
    "        frame_step = 160,\n",
    "        fft_length = 400,\n",
    "        num_feats = 40\n",
    "    ):\n",
    "    audio = tf.cast(audio, tf.float32)\n",
    "    audio = audio[:16000]\n",
    "    zero_padding = tf.zeros([16000] - tf.shape(audio), dtype=tf.float32)\n",
    "    audio = tf.concat([audio, zero_padding], 0)\n",
    "    stfts = tf.signal.stft(audio, frame_length=frame_length, frame_step=frame_step, fft_length=fft_length)\n",
    "\n",
    "    spectrograms = tf.abs(stfts)\n",
    "\n",
    "    # Warp the linear scale spectrograms into the mel-scale.\n",
    "    num_spectrogram_bins = stfts.shape[-1]\n",
    "    lower_edge_hertz, upper_edge_hertz, num_mel_bins = 0 , sample_rate/2, num_feats\n",
    "    linear_to_mel_weight_matrix = tf.signal.linear_to_mel_weight_matrix(\n",
    "      num_mel_bins, num_spectrogram_bins, sample_rate, lower_edge_hertz, upper_edge_hertz)\n",
    "    mel_spectrograms = tf.tensordot(\n",
    "      spectrograms, linear_to_mel_weight_matrix, 1)\n",
    "    mel_spectrograms.set_shape(spectrograms.shape[:-1].concatenate(\n",
    "      linear_to_mel_weight_matrix.shape[-1:]))\n",
    "\n",
    "    # Compute a stabilized log to get log-magnitude mel-scale spectrograms.\n",
    "    log_mel_spectrograms = tf.math.log(mel_spectrograms + 1e-6)\n",
    "\n",
    "    # Compute MFCCs from log_mel_spectrograms\n",
    "    mfccs = tf.signal.mfccs_from_log_mel_spectrograms(\n",
    "      log_mel_spectrograms)\n",
    "    mfccs = mfccs[..., tf.newaxis]\n",
    "\n",
    "    return mfccs\n"
   ],
   "metadata": {
    "collapsed": false,
    "ExecuteTime": {
     "end_time": "2024-07-04T15:28:03.507309Z",
     "start_time": "2024-07-04T15:28:03.499002Z"
    }
   },
   "id": "31fb53a7ea7f840",
   "execution_count": 71
  },
  {
   "cell_type": "code",
   "outputs": [],
   "source": [
    "# Preprocessing function\n",
    "def preprocess_data(example):\n",
    "    audio = example['audio']\n",
    "    label = example['label']\n",
    "    # label = tf.one_hot(label, 12)\n",
    "    mfccs = get_mfccs(audio)\n",
    "    return mfccs, label"
   ],
   "metadata": {
    "collapsed": false,
    "ExecuteTime": {
     "end_time": "2024-07-04T15:50:50.282975Z",
     "start_time": "2024-07-04T15:50:50.278696Z"
    }
   },
   "id": "b37f3162569355ed",
   "execution_count": 107
  },
  {
   "cell_type": "code",
   "outputs": [],
   "source": [
    "# Create dataset\n",
    "train_samples = train\n",
    "train_data = train_samples.map(preprocess_data, num_parallel_calls=tf.data.experimental.AUTOTUNE)"
   ],
   "metadata": {
    "collapsed": false,
    "ExecuteTime": {
     "end_time": "2024-07-04T15:50:51.275562Z",
     "start_time": "2024-07-04T15:50:51.139763Z"
    }
   },
   "id": "eb456c53ac8ea9de",
   "execution_count": 108
  },
  {
   "cell_type": "code",
   "outputs": [],
   "source": [
    "#batch\n",
    "batch_size = 32\n",
    "train_data_batched = train_data.batch(batch_size)"
   ],
   "metadata": {
    "collapsed": false,
    "ExecuteTime": {
     "end_time": "2024-07-04T16:02:33.679269Z",
     "start_time": "2024-07-04T16:02:33.675599Z"
    }
   },
   "id": "443e62d6d536f41a",
   "execution_count": 148
  },
  {
   "cell_type": "code",
   "outputs": [],
   "source": [
    "import tensorflow as tf\n",
    "from tensorflow.keras import layers, models\n",
    "\n",
    "def build_model(num_classes=12):\n",
    "    \"\"\"\n",
    "    Defines a CNN model for audio classification using mel spectrograms.\n",
    "\n",
    "    Args:\n",
    "        num_classes: The number of classes in your classification problem (default is 12).\n",
    "\n",
    "    Returns:\n",
    "        A compiled TensorFlow Keras model.\n",
    "    \"\"\"\n",
    "    inputs = layers.Input(shape=(98,40))\n",
    "\n",
    "    # # Reshape input to 4D tensor\n",
    "    x = layers.Reshape((98,40, 1))(inputs)\n",
    "\n",
    "    # First convolutional block\n",
    "    x = layers.Conv2D(64, (3, 3), activation=\"relu\", padding=\"same\")(x)\n",
    "    x = layers.BatchNormalization()(x)\n",
    "    x = layers.MaxPooling2D((2, 2))(x)\n",
    "\n",
    "    # Second convolutional block\n",
    "    x = layers.Conv2D(64, (3, 3), activation=\"relu\", padding=\"same\")(x)\n",
    "    x = layers.BatchNormalization()(x)\n",
    "    x = layers.MaxPooling2D((2, 2))(x)\n",
    "\n",
    "    # Third convolutional block\n",
    "    x = layers.Conv2D(64, (3, 3), activation=\"relu\", padding=\"same\")(x)\n",
    "    x = layers.BatchNormalization()(x)\n",
    "    x = layers.MaxPooling2D((2, 2))(x)\n",
    "\n",
    "    # Flatten the tensor output from the convolutional blocks\n",
    "    x = layers.Flatten()(x)\n",
    "\n",
    "    # Fully connected layers with dropout\n",
    "    x = layers.Dense(1024, activation=\"relu\")(x)\n",
    "    x = layers.Dropout(0.3)(x)  # Adjust dropout rate as needed\n",
    "\n",
    "    # Output layer\n",
    "    outputs = layers.Dense(num_classes, activation=\"softmax\")(x)\n",
    "\n",
    "    # Define the model\n",
    "    model = tf.keras.Model(inputs=inputs, outputs=outputs)\n",
    "\n",
    "    # Compile the model\n",
    "    model.compile(optimizer=\"adam\",\n",
    "                  loss=\"sparse_categorical_crossentropy\",\n",
    "                  metrics=[\"accuracy\"])\n",
    "    return model\n"
   ],
   "metadata": {
    "collapsed": false,
    "ExecuteTime": {
     "end_time": "2024-07-04T16:22:24.701111Z",
     "start_time": "2024-07-04T16:22:24.693859Z"
    }
   },
   "id": "9db6ffd2e95fba22",
   "execution_count": 172
  },
  {
   "cell_type": "code",
   "outputs": [
    {
     "name": "stdout",
     "output_type": "stream",
     "text": [
      "Features shape: (98, 40, 1)\n"
     ]
    },
    {
     "name": "stderr",
     "output_type": "stream",
     "text": [
      "2024-07-04 19:22:25.357940: W tensorflow/core/framework/local_rendezvous.cc:404] Local rendezvous is aborting with status: OUT_OF_RANGE: End of sequence\n"
     ]
    }
   ],
   "source": [
    "for features, labels in train_data.take(1):\n",
    "    print(\"Features shape:\", features.shape)\n",
    "    input_shape = features.shape\n"
   ],
   "metadata": {
    "collapsed": false,
    "ExecuteTime": {
     "end_time": "2024-07-04T16:22:25.363965Z",
     "start_time": "2024-07-04T16:22:25.137684Z"
    }
   },
   "id": "ad8f23690a800b78",
   "execution_count": 173
  },
  {
   "cell_type": "code",
   "outputs": [],
   "source": [
    "# Build the model\n",
    "model = build_model()\n",
    "# model.summary()"
   ],
   "metadata": {
    "collapsed": false,
    "ExecuteTime": {
     "end_time": "2024-07-04T16:22:26.435891Z",
     "start_time": "2024-07-04T16:22:26.368507Z"
    }
   },
   "id": "2510984750cd79b6",
   "execution_count": 174
  },
  {
   "cell_type": "code",
   "outputs": [],
   "source": [
    "#preprocess validation data\n",
    "val_samples = val.map(preprocess_data, num_parallel_calls=tf.data.experimental.AUTOTUNE)\n",
    "val_samples_batched = val_samples.batch(32)"
   ],
   "metadata": {
    "collapsed": false,
    "ExecuteTime": {
     "end_time": "2024-07-04T16:22:27.225586Z",
     "start_time": "2024-07-04T16:22:27.088431Z"
    }
   },
   "id": "816c4cc833bd602a",
   "execution_count": 175
  },
  {
   "cell_type": "code",
   "outputs": [
    {
     "name": "stdout",
     "output_type": "stream",
     "text": [
      "Epoch 1/10\n",
      "\u001B[1m2673/2673\u001B[0m \u001B[32m━━━━━━━━━━━━━━━━━━━━\u001B[0m\u001B[37m\u001B[0m \u001B[1m94s\u001B[0m 34ms/step - accuracy: 0.6824 - loss: 1.2464 - val_accuracy: 0.8335 - val_loss: 0.4999\n",
      "Epoch 2/10\n",
      "\u001B[1m2673/2673\u001B[0m \u001B[32m━━━━━━━━━━━━━━━━━━━━\u001B[0m\u001B[37m\u001B[0m \u001B[1m89s\u001B[0m 33ms/step - accuracy: 0.8674 - loss: 0.4222 - val_accuracy: 0.8835 - val_loss: 0.3716\n",
      "Epoch 3/10\n",
      "\u001B[1m2673/2673\u001B[0m \u001B[32m━━━━━━━━━━━━━━━━━━━━\u001B[0m\u001B[37m\u001B[0m \u001B[1m90s\u001B[0m 34ms/step - accuracy: 0.9051 - loss: 0.3023 - val_accuracy: 0.9138 - val_loss: 0.2877\n",
      "Epoch 4/10\n",
      "\u001B[1m2673/2673\u001B[0m \u001B[32m━━━━━━━━━━━━━━━━━━━━\u001B[0m\u001B[37m\u001B[0m \u001B[1m89s\u001B[0m 33ms/step - accuracy: 0.9289 - loss: 0.2328 - val_accuracy: 0.9105 - val_loss: 0.3078\n",
      "Epoch 5/10\n",
      "\u001B[1m2673/2673\u001B[0m \u001B[32m━━━━━━━━━━━━━━━━━━━━\u001B[0m\u001B[37m\u001B[0m \u001B[1m88s\u001B[0m 33ms/step - accuracy: 0.9434 - loss: 0.1850 - val_accuracy: 0.9193 - val_loss: 0.3050\n",
      "Epoch 6/10\n",
      "\u001B[1m2673/2673\u001B[0m \u001B[32m━━━━━━━━━━━━━━━━━━━━\u001B[0m\u001B[37m\u001B[0m \u001B[1m87s\u001B[0m 32ms/step - accuracy: 0.9536 - loss: 0.1530 - val_accuracy: 0.9372 - val_loss: 0.2487\n",
      "Epoch 7/10\n",
      "\u001B[1m2673/2673\u001B[0m \u001B[32m━━━━━━━━━━━━━━━━━━━━\u001B[0m\u001B[37m\u001B[0m \u001B[1m88s\u001B[0m 33ms/step - accuracy: 0.9604 - loss: 0.1308 - val_accuracy: 0.9211 - val_loss: 0.3068\n",
      "Epoch 8/10\n",
      "\u001B[1m2673/2673\u001B[0m \u001B[32m━━━━━━━━━━━━━━━━━━━━\u001B[0m\u001B[37m\u001B[0m \u001B[1m88s\u001B[0m 33ms/step - accuracy: 0.9655 - loss: 0.1109 - val_accuracy: 0.9254 - val_loss: 0.2904\n",
      "Epoch 9/10\n",
      "\u001B[1m2673/2673\u001B[0m \u001B[32m━━━━━━━━━━━━━━━━━━━━\u001B[0m\u001B[37m\u001B[0m \u001B[1m89s\u001B[0m 33ms/step - accuracy: 0.9687 - loss: 0.1017 - val_accuracy: 0.9375 - val_loss: 0.2536\n",
      "Epoch 10/10\n",
      "\u001B[1m2673/2673\u001B[0m \u001B[32m━━━━━━━━━━━━━━━━━━━━\u001B[0m\u001B[37m\u001B[0m \u001B[1m88s\u001B[0m 33ms/step - accuracy: 0.9762 - loss: 0.0786 - val_accuracy: 0.9382 - val_loss: 0.2815\n"
     ]
    }
   ],
   "source": [
    "# Train the model\n",
    "history = model.fit(train_data_batched,validation_data= val_samples_batched, epochs=10)  # Adjust epochs as needed"
   ],
   "metadata": {
    "collapsed": false,
    "ExecuteTime": {
     "end_time": "2024-07-04T16:37:18.238139Z",
     "start_time": "2024-07-04T16:22:28.481762Z"
    }
   },
   "id": "224422f47445b217",
   "execution_count": 176
  },
  {
   "cell_type": "code",
   "outputs": [],
   "source": [
    "# Save the model\n",
    "model.save(\"audio_classifier_MFCC.keras\")"
   ],
   "metadata": {
    "collapsed": false,
    "ExecuteTime": {
     "end_time": "2024-07-04T16:38:15.263976Z",
     "start_time": "2024-07-04T16:38:15.125985Z"
    }
   },
   "id": "26b6c40191670106",
   "execution_count": 177
  },
  {
   "cell_type": "code",
   "outputs": [],
   "source": [
    "# Load the model\n",
    "model = tf.keras.models.load_model(\"audio_classifier_MFCC.keras\")"
   ],
   "metadata": {
    "collapsed": false,
    "ExecuteTime": {
     "end_time": "2024-07-04T16:16:08.874395Z",
     "start_time": "2024-07-04T16:16:08.689975Z"
    }
   },
   "id": "d64ede18c191d1ff",
   "execution_count": 168
  },
  {
   "cell_type": "code",
   "outputs": [
    {
     "name": "stdout",
     "output_type": "stream",
     "text": [
      "\u001B[1m153/153\u001B[0m \u001B[32m━━━━━━━━━━━━━━━━━━━━\u001B[0m\u001B[37m\u001B[0m \u001B[1m2s\u001B[0m 10ms/step - accuracy: 0.8651 - loss: 0.6032\n",
      "test_acc: 0.8670756816864014 test_loss 0.6050199866294861\n"
     ]
    }
   ],
   "source": [
    "# Test the model\n",
    "test = ds['test']\n",
    "test_samples = test\n",
    "test_data = test_samples.map(preprocess_data, num_parallel_calls=tf.data.experimental.AUTOTUNE)\n",
    "test_data_batched = test_data.batch(32)\n",
    "test_loss, test_acc = model.evaluate(test_data_batched)\n",
    "print('test_acc:', test_acc, 'test_loss', test_loss)\n"
   ],
   "metadata": {
    "collapsed": false,
    "ExecuteTime": {
     "end_time": "2024-07-04T16:38:18.845539Z",
     "start_time": "2024-07-04T16:38:17.013765Z"
    }
   },
   "id": "85fbfbc7c811b329",
   "execution_count": 178
  },
  {
   "cell_type": "code",
   "outputs": [
    {
     "data": {
      "text/plain": "<Figure size 640x480 with 1 Axes>",
      "image/png": "[encoded data removed]"
     },
     "metadata": {},
     "output_type": "display_data"
    },
    {
     "data": {
      "text/plain": "<Figure size 640x480 with 1 Axes>",
      "image/png": "[encoded data removed]"
     },
     "metadata": {},
     "output_type": "display_data"
    }
   ],
   "source": [
    "import matplotlib.pyplot as plt\n",
    "\n",
    "acc = history.history['accuracy']\n",
    "val_acc = history.history['val_accuracy']\n",
    "loss = history.history['loss']\n",
    "val_loss = history.history['val_loss']\n",
    "\n",
    "epochs = range(len(acc))\n",
    "\n",
    "plt.plot(epochs, acc, 'r', label='Training accuracy')\n",
    "plt.plot(epochs, val_acc, 'b', label='Validation accuracy')\n",
    "plt.title('Training and validation accuracy')\n",
    "plt.legend()\n",
    "plt.show()\n",
    "plt.clf()\n",
    "\n",
    "plt.plot(epochs, loss, 'r', label='Training Loss')\n",
    "plt.plot(epochs, val_loss, 'b', label='Validation Loss')\n",
    "plt.title('Training and validation loss')\n",
    "plt.legend()\n",
    "plt.show()"
   ],
   "metadata": {
    "collapsed": false,
    "ExecuteTime": {
     "end_time": "2024-07-04T16:39:42.111017Z",
     "start_time": "2024-07-04T16:39:41.979694Z"
    }
   },
   "id": "1c8121a9fa8a1873",
   "execution_count": 179
  },
  {
   "cell_type": "code",
   "outputs": [],
   "source": [
    "# maybe 2 epochs is enough"
   ],
   "metadata": {
    "collapsed": false,
    "ExecuteTime": {
     "end_time": "2024-07-04T16:44:02.020422Z",
     "start_time": "2024-07-04T16:44:02.018187Z"
    }
   },
   "id": "172687ba69674ca4",
   "execution_count": 182
  },
  {
   "cell_type": "code",
   "outputs": [
    {
     "name": "stdout",
     "output_type": "stream",
     "text": [
      "Epoch 1/2\n",
      "\u001B[1m2673/2673\u001B[0m \u001B[32m━━━━━━━━━━━━━━━━━━━━\u001B[0m\u001B[37m\u001B[0m \u001B[1m93s\u001B[0m 34ms/step - accuracy: 0.6832 - loss: 1.2297 - val_accuracy: 0.8502 - val_loss: 0.4603\n",
      "Epoch 2/2\n",
      "\u001B[1m2673/2673\u001B[0m \u001B[32m━━━━━━━━━━━━━━━━━━━━\u001B[0m\u001B[37m\u001B[0m \u001B[1m89s\u001B[0m 33ms/step - accuracy: 0.8661 - loss: 0.4234 - val_accuracy: 0.9166 - val_loss: 0.2723\n"
     ]
    },
    {
     "data": {
      "text/plain": "<keras.src.callbacks.history.History at 0x4903b2ac0>"
     },
     "execution_count": 181,
     "metadata": {},
     "output_type": "execute_result"
    }
   ],
   "source": [
    "model = build_model()\n",
    "model.fit(train_data_batched,validation_data= val_samples_batched, epochs=2)  # Adjust epochs as needed"
   ],
   "metadata": {
    "collapsed": false,
    "ExecuteTime": {
     "end_time": "2024-07-04T16:44:02.016444Z",
     "start_time": "2024-07-04T16:40:59.238950Z"
    }
   },
   "id": "cc3664ada9898893",
   "execution_count": 181
  },
  {
   "cell_type": "code",
   "outputs": [
    {
     "name": "stdout",
     "output_type": "stream",
     "text": [
      "\u001B[1m153/153\u001B[0m \u001B[32m━━━━━━━━━━━━━━━━━━━━\u001B[0m\u001B[37m\u001B[0m \u001B[1m2s\u001B[0m 10ms/step - accuracy: 0.7869 - loss: 0.6708\n",
      "test_acc: 0.7993865013122559 test_loss 0.6385179162025452\n"
     ]
    }
   ],
   "source": [
    "test_loss, test_acc = model.evaluate(test_data_batched)\n",
    "print('test_acc:', test_acc, 'test_loss', test_loss)"
   ],
   "metadata": {
    "collapsed": false,
    "ExecuteTime": {
     "end_time": "2024-07-04T16:44:20.641063Z",
     "start_time": "2024-07-04T16:44:18.999457Z"
    }
   },
   "id": "f2a18dbc490fec48",
   "execution_count": 183
  },
  {
   "cell_type": "code",
   "outputs": [
    {
     "name": "stdout",
     "output_type": "stream",
     "text": [
      "\u001B[1m2673/2673\u001B[0m \u001B[32m━━━━━━━━━━━━━━━━━━━━\u001B[0m\u001B[37m\u001B[0m \u001B[1m90s\u001B[0m 34ms/step - accuracy: 0.9093 - loss: 0.2923 - val_accuracy: 0.9330 - val_loss: 0.2291\n"
     ]
    },
    {
     "data": {
      "text/plain": "<keras.src.callbacks.history.History at 0x359238520>"
     },
     "execution_count": 184,
     "metadata": {},
     "output_type": "execute_result"
    }
   ],
   "source": [
    "#anoter epoch\n",
    "model.fit(train_data_batched,validation_data= val_samples_batched, epochs=1)  # Adjust epochs as needed"
   ],
   "metadata": {
    "collapsed": false,
    "ExecuteTime": {
     "end_time": "2024-07-04T16:46:12.927016Z",
     "start_time": "2024-07-04T16:44:42.487944Z"
    }
   },
   "id": "1ab433d62c63cb95",
   "execution_count": 184
  },
  {
   "cell_type": "code",
   "outputs": [
    {
     "name": "stdout",
     "output_type": "stream",
     "text": [
      "\u001B[1m153/153\u001B[0m \u001B[32m━━━━━━━━━━━━━━━━━━━━\u001B[0m\u001B[37m\u001B[0m \u001B[1m2s\u001B[0m 10ms/step - accuracy: 0.8419 - loss: 0.5277\n",
      "test_acc: 0.8480572700500488 test_loss 0.512620747089386\n"
     ]
    }
   ],
   "source": [
    "test_loss, test_acc = model.evaluate(test_data_batched)\n",
    "print('test_acc:', test_acc, 'test_loss', test_loss)"
   ],
   "metadata": {
    "collapsed": false,
    "ExecuteTime": {
     "end_time": "2024-07-04T16:46:36.646673Z",
     "start_time": "2024-07-04T16:46:35.034207Z"
    }
   },
   "id": "3c093397ec459c57",
   "execution_count": 185
  },
  {
   "cell_type": "code",
   "outputs": [],
   "source": [],
   "metadata": {
    "collapsed": false
   },
   "id": "5b77ea832bf5022f"
  }
 ],
 "metadata": {
  "kernelspec": {
   "display_name": "Python 3",
   "language": "python",
   "name": "python3"
  },
  "language_info": {
   "codemirror_mode": {
    "name": "ipython",
    "version": 2
   },
   "file_extension": ".py",
   "mimetype": "text/x-python",
   "name": "python",
   "nbconvert_exporter": "python",
   "pygments_lexer": "ipython2",
   "version": "2.7.6"
  }
 },
 "nbformat": 4,
 "nbformat_minor": 5
}
